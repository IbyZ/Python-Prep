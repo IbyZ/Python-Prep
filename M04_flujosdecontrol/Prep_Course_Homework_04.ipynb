{
 "cells": [
  {
   "attachments": {},
   "cell_type": "markdown",
   "metadata": {},
   "source": [
    "## Flujos de Control"
   ]
  },
  {
   "attachments": {},
   "cell_type": "markdown",
   "metadata": {},
   "source": [
    "1) Crear una variable que contenga un elemento del conjunto de números enteros y luego imprimir por pantalla si es mayor o menor a cero"
   ]
  },
  {
   "cell_type": "code",
   "execution_count": 1,
   "metadata": {},
   "outputs": [
    {
     "name": "stdout",
     "output_type": "stream",
     "text": [
      "Es positivo\n"
     ]
    }
   ],
   "source": [
    "a = 7\n",
    "if a > 0:\n",
    "    print(\"Es positivo\")\n",
    "elif a < 0:\n",
    "    print(\"Es negativo\")\n",
    "else:\n",
    "    print(\"El numero es igual a 0\")"
   ]
  },
  {
   "attachments": {},
   "cell_type": "markdown",
   "metadata": {},
   "source": [
    "2) Crear dos variables y un condicional que informe si son del mismo tipo de dato"
   ]
  },
  {
   "cell_type": "code",
   "execution_count": 5,
   "metadata": {},
   "outputs": [
    {
     "name": "stdout",
     "output_type": "stream",
     "text": [
      "Son del mismo tipo de dato\n"
     ]
    }
   ],
   "source": [
    "b = 5\n",
    "c = \"Hola\"\n",
    "if type(b) == type(c):\n",
    "    print(\"Son del mismo tipo de dato\")\n",
    "else:\n",
    "    print(\"Son distintos tipos de datos\")"
   ]
  },
  {
   "attachments": {},
   "cell_type": "markdown",
   "metadata": {},
   "source": [
    "3) Para los valores enteros del 1 al 20, imprimir por pantalla si es par o impar"
   ]
  },
  {
   "cell_type": "code",
   "execution_count": 8,
   "metadata": {},
   "outputs": [
    {
     "name": "stdout",
     "output_type": "stream",
     "text": [
      "1  Es impar\n",
      "2  Es par\n",
      "3  Es impar\n",
      "4  Es par\n",
      "5  Es impar\n",
      "6  Es par\n",
      "7  Es impar\n",
      "8  Es par\n",
      "9  Es impar\n",
      "10  Es par\n",
      "11  Es impar\n",
      "12  Es par\n",
      "13  Es impar\n",
      "14  Es par\n",
      "15  Es impar\n",
      "16  Es par\n",
      "17  Es impar\n",
      "18  Es par\n",
      "19  Es impar\n",
      "20  Es par\n"
     ]
    }
   ],
   "source": [
    "for i in range(1, 21):\n",
    "    if i%2 == 0:\n",
    "        print(i, \" Es par\")\n",
    "    else:\n",
    "        print(i, \" Es impar\")"
   ]
  },
  {
   "attachments": {},
   "cell_type": "markdown",
   "metadata": {},
   "source": [
    "4) En un ciclo for mostrar para los valores entre 0 y 5 el resultado de elevarlo a la potencia igual a 3"
   ]
  },
  {
   "cell_type": "code",
   "execution_count": 10,
   "metadata": {},
   "outputs": [
    {
     "name": "stdout",
     "output_type": "stream",
     "text": [
      "0 elevado a la tercera potencia:  0\n",
      "1 elevado a la tercera potencia:  1\n",
      "2 elevado a la tercera potencia:  8\n",
      "3 elevado a la tercera potencia:  27\n",
      "4 elevado a la tercera potencia:  64\n",
      "5 elevado a la tercera potencia:  125\n"
     ]
    }
   ],
   "source": [
    "for i in range(0, 6):\n",
    "    print(i, \"elevado a la tercera potencia: \", i**3)"
   ]
  },
  {
   "attachments": {},
   "cell_type": "markdown",
   "metadata": {},
   "source": [
    "5) Crear una variable que contenga un número entero y realizar un ciclo for la misma cantidad de ciclos"
   ]
  },
  {
   "cell_type": "code",
   "execution_count": 11,
   "metadata": {},
   "outputs": [
    {
     "name": "stdout",
     "output_type": "stream",
     "text": [
      "Cantidad de ciclos:  10\n",
      "Ciclo  1\n",
      "Ciclo  2\n",
      "Ciclo  3\n",
      "Ciclo  4\n",
      "Ciclo  5\n",
      "Ciclo  6\n",
      "Ciclo  7\n",
      "Ciclo  8\n",
      "Ciclo  9\n",
      "Ciclo  10\n"
     ]
    }
   ],
   "source": [
    "d = 10\n",
    "print(\"Cantidad de ciclos: \",d)\n",
    "for i in range(d):\n",
    "    print(\"Ciclo \", i+1)"
   ]
  },
  {
   "attachments": {},
   "cell_type": "markdown",
   "metadata": {},
   "source": [
    "6) Utilizar un ciclo while para realizar el factorial de un número guardado en una variable, sólo si la variable contiene un número entero mayor a 0"
   ]
  },
  {
   "cell_type": "code",
   "execution_count": 46,
   "metadata": {},
   "outputs": [
    {
     "name": "stdout",
     "output_type": "stream",
     "text": [
      "El factorial de 5 = 120\n"
     ]
    }
   ],
   "source": [
    "e = 5\n",
    "i = 1\n",
    "f = e-1\n",
    "g = e\n",
    "if e >= 0:\n",
    "    while i<e:\n",
    "        g*=f\n",
    "        f-=1\n",
    "        i+=1\n",
    "    print(f\"El factorial de {e} = {g}\")\n",
    "elif e == 0:\n",
    "    print(f\"El factorial de 0 = 1\")\n",
    "else:\n",
    "    print(\"No se puede hacer el factoria de un numero negativo\")"
   ]
  },
  {
   "attachments": {},
   "cell_type": "markdown",
   "metadata": {},
   "source": [
    "7) Crear un ciclo for dentro de un ciclo while"
   ]
  },
  {
   "cell_type": "code",
   "execution_count": 52,
   "metadata": {},
   "outputs": [
    {
     "name": "stdout",
     "output_type": "stream",
     "text": [
      "0\n",
      "1\n",
      "2\n",
      "3\n",
      "0\n",
      "1\n",
      "2\n",
      "3\n",
      "0\n",
      "1\n",
      "2\n",
      "3\n"
     ]
    }
   ],
   "source": [
    "aux = 0\n",
    "while True:\n",
    "    for i in range(5):\n",
    "        print(i)\n",
    "        if i==3:\n",
    "            break\n",
    "    aux+=1\n",
    "    if aux==3:\n",
    "        break"
   ]
  },
  {
   "attachments": {},
   "cell_type": "markdown",
   "metadata": {},
   "source": [
    "8) Crear un ciclo while dentro de un ciclo for"
   ]
  },
  {
   "cell_type": "code",
   "execution_count": 58,
   "metadata": {},
   "outputs": [
    {
     "name": "stdout",
     "output_type": "stream",
     "text": [
      "0\n",
      "1\n",
      "1\n"
     ]
    }
   ],
   "source": [
    "for i in range(3):\n",
    "    while i<2:\n",
    "        print(i)\n",
    "        i+=1"
   ]
  },
  {
   "attachments": {},
   "cell_type": "markdown",
   "metadata": {},
   "source": [
    "9) Imprimir los números primos existentes entre 0 y 30"
   ]
  },
  {
   "cell_type": "code",
   "execution_count": 7,
   "metadata": {},
   "outputs": [
    {
     "name": "stdout",
     "output_type": "stream",
     "text": [
      "0 No es primo\n",
      "1 No es primo\n",
      "2 Es primo\n",
      "3 Es primo\n",
      "4 No es primo\n",
      "5 Es primo\n",
      "6 No es primo\n",
      "7 Es primo\n",
      "8 No es primo\n",
      "9 No es primo\n",
      "10 No es primo\n",
      "11 Es primo\n",
      "12 No es primo\n",
      "13 Es primo\n",
      "14 No es primo\n",
      "15 No es primo\n",
      "16 No es primo\n",
      "17 Es primo\n",
      "18 No es primo\n",
      "19 Es primo\n",
      "20 No es primo\n",
      "21 No es primo\n",
      "22 No es primo\n",
      "23 Es primo\n",
      "24 No es primo\n",
      "25 No es primo\n",
      "26 No es primo\n",
      "27 No es primo\n",
      "28 No es primo\n",
      "29 Es primo\n",
      "30 No es primo\n"
     ]
    }
   ],
   "source": [
    "for i in range(31):\n",
    "    if i < 2:\n",
    "        print(i, \"No es primo\")\n",
    "    else:\n",
    "        aux = i-1\n",
    "        band = False\n",
    "        while aux != 1:\n",
    "            if i%aux == 0:\n",
    "                print(i, \"No es primo\")\n",
    "                band = True\n",
    "                break\n",
    "            aux-=1\n",
    "        if band == False:\n",
    "            print(i, \"Es primo\")\n",
    "        "
   ]
  },
  {
   "attachments": {},
   "cell_type": "markdown",
   "metadata": {},
   "source": [
    "10) ¿Se puede mejorar el proceso del punto 9? Utilizar las sentencias break y/ó continue para tal fin"
   ]
  },
  {
   "cell_type": "code",
   "execution_count": 8,
   "metadata": {},
   "outputs": [
    {
     "name": "stdout",
     "output_type": "stream",
     "text": [
      "0 No es primo\n",
      "1 No es primo\n",
      "2 Es primo\n",
      "3 Es primo\n",
      "4 No es primo\n",
      "5 Es primo\n",
      "6 No es primo\n",
      "7 Es primo\n",
      "8 No es primo\n",
      "9 No es primo\n",
      "10 No es primo\n",
      "11 Es primo\n",
      "12 No es primo\n",
      "13 Es primo\n",
      "14 No es primo\n",
      "15 No es primo\n",
      "16 No es primo\n",
      "17 Es primo\n",
      "18 No es primo\n",
      "19 Es primo\n",
      "20 No es primo\n",
      "21 No es primo\n",
      "22 No es primo\n",
      "23 Es primo\n",
      "24 No es primo\n",
      "25 No es primo\n",
      "26 No es primo\n",
      "27 No es primo\n",
      "28 No es primo\n",
      "29 Es primo\n",
      "30 No es primo\n"
     ]
    }
   ],
   "source": [
    "for i in range(31):\n",
    "    if i < 2:\n",
    "        print(i, \"No es primo\")\n",
    "        continue\n",
    "    aux = i-1\n",
    "    band = False\n",
    "    while aux != 1:\n",
    "        if i%aux == 0:\n",
    "            print(i, \"No es primo\")\n",
    "            band = True\n",
    "            break\n",
    "        aux-=1\n",
    "    if band == False:\n",
    "        print(i, \"Es primo\")"
   ]
  },
  {
   "attachments": {},
   "cell_type": "markdown",
   "metadata": {},
   "source": [
    "11) En los puntos 9 y 10, se diseño un código que encuentra números primos y además se lo optimizó. ¿Es posible saber en qué medida se optimizó?"
   ]
  },
  {
   "cell_type": "code",
   "execution_count": null,
   "metadata": {},
   "outputs": [],
   "source": [
    "\"Se optimizo no en muy buena medida a comparazion del anterior ya que solo cambie que cuando el numero sea menor que 2 diga que no es primo y salte a la siguiente iteracion con continue\""
   ]
  },
  {
   "attachments": {},
   "cell_type": "markdown",
   "metadata": {},
   "source": [
    "12) Aplicando continue, armar un ciclo while que solo imprima los valores divisibles por 12, dentro del rango de números de 100 a 300"
   ]
  },
  {
   "cell_type": "code",
   "execution_count": 18,
   "metadata": {},
   "outputs": [
    {
     "name": "stdout",
     "output_type": "stream",
     "text": [
      "108\n",
      "120\n",
      "132\n",
      "144\n",
      "156\n",
      "168\n",
      "180\n",
      "192\n",
      "204\n",
      "216\n",
      "228\n",
      "240\n",
      "252\n",
      "264\n",
      "276\n",
      "288\n",
      "300\n"
     ]
    }
   ],
   "source": [
    "band = True\n",
    "aux = 100\n",
    "for i in range(100, 301):\n",
    "    if i == aux:\n",
    "        band = True\n",
    "    else:\n",
    "        continue\n",
    "    while band == True:\n",
    "        if i%12 == 0:\n",
    "            band = False\n",
    "            aux = i+12\n",
    "            print(i)\n",
    "        i+=1\n",
    "    "
   ]
  },
  {
   "attachments": {},
   "cell_type": "markdown",
   "metadata": {},
   "source": [
    "13) Utilizar la función **input()** que permite hacer ingresos por teclado, para encontrar números primos y dar la opción al usario de buscar el siguiente"
   ]
  },
  {
   "cell_type": "code",
   "execution_count": 8,
   "metadata": {},
   "outputs": [
    {
     "name": "stdout",
     "output_type": "stream",
     "text": [
      "19 Es primo\n"
     ]
    }
   ],
   "source": [
    "while True:\n",
    "    h = int(input(\"Encuentre un numero primo: \"))\n",
    "    if h>=0 and h<=3:\n",
    "        print(f\"{h} Es primo\")\n",
    "    elif h>=2:\n",
    "        for i in range(2, h):\n",
    "            if h%i == 0:\n",
    "                print(f\"{h} No es primo\")\n",
    "                break\n",
    "            elif i == h-1:\n",
    "                print(f\"{h} Es primo\")\n",
    "    else:\n",
    "        print(\"Los numeros negativos no son primos\")\n",
    "    h = input(\"Desea encontrar otro numero primo: S(si) / Otra tecla(no)\").lower()\n",
    "    if h != \"s\":\n",
    "        break"
   ]
  },
  {
   "attachments": {},
   "cell_type": "markdown",
   "metadata": {},
   "source": [
    "14) Crear un ciclo while que encuentre dentro del rango de 100 a 300 el primer número divisible por 3 y además múltiplo de 6"
   ]
  },
  {
   "cell_type": "code",
   "execution_count": 11,
   "metadata": {},
   "outputs": [
    {
     "name": "stdout",
     "output_type": "stream",
     "text": [
      "102\n"
     ]
    }
   ],
   "source": [
    "i = 100\n",
    "while True:\n",
    "    if i%3 == 0 and i%6 == 0:\n",
    "        print(i)\n",
    "        break\n",
    "    i+=1"
   ]
  }
 ],
 "metadata": {
  "interpreter": {
   "hash": "c85384e4cb51c8b72350f3a8712cc8351fdc3955e32a27f9b60c6242ab125f01"
  },
  "kernelspec": {
   "display_name": "Python 3 (ipykernel)",
   "language": "python",
   "name": "python3"
  },
  "language_info": {
   "codemirror_mode": {
    "name": "ipython",
    "version": 3
   },
   "file_extension": ".py",
   "mimetype": "text/x-python",
   "name": "python",
   "nbconvert_exporter": "python",
   "pygments_lexer": "ipython3",
   "version": "3.12.3"
  }
 },
 "nbformat": 4,
 "nbformat_minor": 4
}
